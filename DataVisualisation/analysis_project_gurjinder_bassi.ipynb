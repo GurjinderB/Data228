{
 "cells": [
  {
   "cell_type": "markdown",
   "id": "bff456b7",
   "metadata": {},
   "source": [
    "# Question: What was the trend for the price of Bitcoin against Tether and were there any large price movements?"
   ]
  },
  {
   "cell_type": "code",
   "execution_count": 149,
   "id": "0e8ce01d",
   "metadata": {},
   "outputs": [],
   "source": [
    "import matplotlib.pyplot as plt\n",
    "import numpy as np\n",
    "import pandas as pd\n",
    "import seaborn as sns"
   ]
  },
  {
   "cell_type": "markdown",
   "id": "615619c4",
   "metadata": {},
   "source": [
    "## Introduction\n",
    "Bitcoin is a digital asset listed on mulitple exchanges with the price changing throughout the day due to numerous market factors. The trading pair we are looking at is *BTC/USDT*, where Tether (*USDT*) has a market value of *$1 USD*. This means that the prices given in the dataset represent the cost of *1 BTC* in US dollars.\n",
    "\n",
    "The data we are using comes from Binance, the largest cryptocurrency exchange by trading volume. In particular, we are analysing tick data for the 26$^{th}$ May 2023, which is a record of every trade that occured in 24 hours on the spot market (not including any derivatives trading). \n",
    "\n",
    "The data can be accessed [here](https://www.binance.com/en/landing/data), with the type of data being *Trades*, *Spot*.\n",
    "\n",
    "Our aim is to visualise the trading activity and analyse the price change throughout the day."
   ]
  },
  {
   "cell_type": "code",
   "execution_count": 150,
   "id": "de8adf29",
   "metadata": {},
   "outputs": [
    {
     "name": "stdout",
     "output_type": "stream",
     "text": [
      "The dataset has 655755 rows and 7 columns.\n"
     ]
    },
    {
     "data": {
      "text/html": [
       "<div>\n",
       "<style scoped>\n",
       "    .dataframe tbody tr th:only-of-type {\n",
       "        vertical-align: middle;\n",
       "    }\n",
       "\n",
       "    .dataframe tbody tr th {\n",
       "        vertical-align: top;\n",
       "    }\n",
       "\n",
       "    .dataframe thead th {\n",
       "        text-align: right;\n",
       "    }\n",
       "</style>\n",
       "<table border=\"1\" class=\"dataframe\">\n",
       "  <thead>\n",
       "    <tr style=\"text-align: right;\">\n",
       "      <th></th>\n",
       "      <th>0</th>\n",
       "      <th>1</th>\n",
       "      <th>2</th>\n",
       "      <th>3</th>\n",
       "      <th>4</th>\n",
       "      <th>5</th>\n",
       "      <th>6</th>\n",
       "    </tr>\n",
       "  </thead>\n",
       "  <tbody>\n",
       "    <tr>\n",
       "      <th>0</th>\n",
       "      <td>3126510315</td>\n",
       "      <td>26473.80</td>\n",
       "      <td>0.00223</td>\n",
       "      <td>59.036574</td>\n",
       "      <td>1685059200000</td>\n",
       "      <td>False</td>\n",
       "      <td>True</td>\n",
       "    </tr>\n",
       "    <tr>\n",
       "      <th>1</th>\n",
       "      <td>3126510316</td>\n",
       "      <td>26473.79</td>\n",
       "      <td>0.00199</td>\n",
       "      <td>52.682842</td>\n",
       "      <td>1685059200001</td>\n",
       "      <td>True</td>\n",
       "      <td>True</td>\n",
       "    </tr>\n",
       "    <tr>\n",
       "      <th>2</th>\n",
       "      <td>3126510317</td>\n",
       "      <td>26473.80</td>\n",
       "      <td>0.00110</td>\n",
       "      <td>29.121180</td>\n",
       "      <td>1685059200002</td>\n",
       "      <td>False</td>\n",
       "      <td>True</td>\n",
       "    </tr>\n",
       "    <tr>\n",
       "      <th>3</th>\n",
       "      <td>3126510318</td>\n",
       "      <td>26473.79</td>\n",
       "      <td>0.00263</td>\n",
       "      <td>69.626068</td>\n",
       "      <td>1685059200003</td>\n",
       "      <td>True</td>\n",
       "      <td>True</td>\n",
       "    </tr>\n",
       "    <tr>\n",
       "      <th>4</th>\n",
       "      <td>3126510319</td>\n",
       "      <td>26473.80</td>\n",
       "      <td>0.00147</td>\n",
       "      <td>38.916486</td>\n",
       "      <td>1685059200003</td>\n",
       "      <td>False</td>\n",
       "      <td>True</td>\n",
       "    </tr>\n",
       "  </tbody>\n",
       "</table>\n",
       "</div>"
      ],
      "text/plain": [
       "            0         1        2          3              4      5     6\n",
       "0  3126510315  26473.80  0.00223  59.036574  1685059200000  False  True\n",
       "1  3126510316  26473.79  0.00199  52.682842  1685059200001   True  True\n",
       "2  3126510317  26473.80  0.00110  29.121180  1685059200002  False  True\n",
       "3  3126510318  26473.79  0.00263  69.626068  1685059200003   True  True\n",
       "4  3126510319  26473.80  0.00147  38.916486  1685059200003  False  True"
      ]
     },
     "execution_count": 150,
     "metadata": {},
     "output_type": "execute_result"
    }
   ],
   "source": [
    "df = pd.read_csv('BTCUSDT-trades-2023-05-26.csv', header=None)\n",
    "print(f'The dataset has {df.shape[0]} rows and {df.shape[1]} columns.')\n",
    "df.head()"
   ]
  },
  {
   "cell_type": "markdown",
   "id": "1a3b78ac",
   "metadata": {},
   "source": [
    "\n",
    "We can add a header to the dataframe using the documentation [provided](https://www.binance.com/en/landing/data)."
   ]
  },
  {
   "cell_type": "code",
   "execution_count": 151,
   "id": "d1e3ecb4",
   "metadata": {},
   "outputs": [
    {
     "data": {
      "text/html": [
       "<div>\n",
       "<style scoped>\n",
       "    .dataframe tbody tr th:only-of-type {\n",
       "        vertical-align: middle;\n",
       "    }\n",
       "\n",
       "    .dataframe tbody tr th {\n",
       "        vertical-align: top;\n",
       "    }\n",
       "\n",
       "    .dataframe thead th {\n",
       "        text-align: right;\n",
       "    }\n",
       "</style>\n",
       "<table border=\"1\" class=\"dataframe\">\n",
       "  <thead>\n",
       "    <tr style=\"text-align: right;\">\n",
       "      <th></th>\n",
       "      <th>Trade_ID</th>\n",
       "      <th>Price</th>\n",
       "      <th>Quantity</th>\n",
       "      <th>Base_Quantity</th>\n",
       "      <th>Time</th>\n",
       "      <th>Was_the_buyer_the_maker?</th>\n",
       "      <th>Best_Price?</th>\n",
       "    </tr>\n",
       "  </thead>\n",
       "  <tbody>\n",
       "    <tr>\n",
       "      <th>0</th>\n",
       "      <td>3126510315</td>\n",
       "      <td>26473.80</td>\n",
       "      <td>0.00223</td>\n",
       "      <td>59.036574</td>\n",
       "      <td>1685059200000</td>\n",
       "      <td>False</td>\n",
       "      <td>True</td>\n",
       "    </tr>\n",
       "    <tr>\n",
       "      <th>1</th>\n",
       "      <td>3126510316</td>\n",
       "      <td>26473.79</td>\n",
       "      <td>0.00199</td>\n",
       "      <td>52.682842</td>\n",
       "      <td>1685059200001</td>\n",
       "      <td>True</td>\n",
       "      <td>True</td>\n",
       "    </tr>\n",
       "    <tr>\n",
       "      <th>2</th>\n",
       "      <td>3126510317</td>\n",
       "      <td>26473.80</td>\n",
       "      <td>0.00110</td>\n",
       "      <td>29.121180</td>\n",
       "      <td>1685059200002</td>\n",
       "      <td>False</td>\n",
       "      <td>True</td>\n",
       "    </tr>\n",
       "  </tbody>\n",
       "</table>\n",
       "</div>"
      ],
      "text/plain": [
       "     Trade_ID     Price  Quantity  Base_Quantity           Time   \n",
       "0  3126510315  26473.80   0.00223      59.036574  1685059200000  \\\n",
       "1  3126510316  26473.79   0.00199      52.682842  1685059200001   \n",
       "2  3126510317  26473.80   0.00110      29.121180  1685059200002   \n",
       "\n",
       "   Was_the_buyer_the_maker?  Best_Price?  \n",
       "0                     False         True  \n",
       "1                      True         True  \n",
       "2                     False         True  "
      ]
     },
     "execution_count": 151,
     "metadata": {},
     "output_type": "execute_result"
    }
   ],
   "source": [
    "df.columns = ['Trade_ID', 'Price', 'Quantity', 'Base_Quantity', 'Time', 'Was_the_buyer_the_maker?', 'Best_Price?']\n",
    "df.head(3)"
   ]
  },
  {
   "cell_type": "markdown",
   "id": "70085dc0",
   "metadata": {},
   "source": [
    "## Data explanation\n",
    "1. __Trade_ID__: A unique transaction hash given to each transaction. \n",
    "2. __Price__: Market price for _1 BTC_.\n",
    "3. __Quantity__: Amount of _BTC_ brought or sold.\n",
    "4. __Base_Quantity__: Value of transaction in _USDT_.\n",
    "5. __Time__: Unix timestamp for when the transaction took place.\n",
    "            For example: 1685059200000 is Friday 26$^{th}$ May 00:00:00\n",
    "6. __Was_the_buyer_the_maker?__: Indication of whether the buyer took the ask price.\n",
    "7. __Best_Price?__: Did the transaction incur any [slippage](https://www.binance.com/en/feed/post/158140)?"
   ]
  },
  {
   "cell_type": "markdown",
   "id": "c606fd26",
   "metadata": {},
   "source": [
    "For the purposes of our analysis, we do not require columns $1$, $4$, $6$, $7$. Note, we can calculate the base quantity for any transaction by multiplying the price and quantity and for the entire dataset and there were no transactions that occured slippage."
   ]
  },
  {
   "cell_type": "code",
   "execution_count": 176,
   "id": "4651aa58",
   "metadata": {},
   "outputs": [
    {
     "data": {
      "text/html": [
       "<div>\n",
       "<style scoped>\n",
       "    .dataframe tbody tr th:only-of-type {\n",
       "        vertical-align: middle;\n",
       "    }\n",
       "\n",
       "    .dataframe tbody tr th {\n",
       "        vertical-align: top;\n",
       "    }\n",
       "\n",
       "    .dataframe thead th {\n",
       "        text-align: right;\n",
       "    }\n",
       "</style>\n",
       "<table border=\"1\" class=\"dataframe\">\n",
       "  <thead>\n",
       "    <tr style=\"text-align: right;\">\n",
       "      <th></th>\n",
       "      <th>Trade_ID</th>\n",
       "      <th>Price</th>\n",
       "      <th>Quantity</th>\n",
       "      <th>Base_Quantity</th>\n",
       "      <th>Time</th>\n",
       "      <th>Was_the_buyer_the_maker?</th>\n",
       "      <th>Best_Price?</th>\n",
       "    </tr>\n",
       "  </thead>\n",
       "  <tbody>\n",
       "  </tbody>\n",
       "</table>\n",
       "</div>"
      ],
      "text/plain": [
       "Empty DataFrame\n",
       "Columns: [Trade_ID, Price, Quantity, Base_Quantity, Time, Was_the_buyer_the_maker?, Best_Price?]\n",
       "Index: []"
      ]
     },
     "execution_count": 176,
     "metadata": {},
     "output_type": "execute_result"
    }
   ],
   "source": [
    "# All orders were executed at the best price\n",
    "df.query('`Best_Price?` == False')"
   ]
  },
  {
   "cell_type": "code",
   "execution_count": 177,
   "id": "13e05a10",
   "metadata": {},
   "outputs": [],
   "source": [
    "df_pqt = df.drop(labels=['Trade_ID', 'Base_Quantity', 'Was_the_buyer_the_maker?', 'Best_Price?'], axis=1, inplace=False)"
   ]
  },
  {
   "cell_type": "code",
   "execution_count": 178,
   "id": "c3f025e6",
   "metadata": {},
   "outputs": [
    {
     "data": {
      "text/html": [
       "<div>\n",
       "<style scoped>\n",
       "    .dataframe tbody tr th:only-of-type {\n",
       "        vertical-align: middle;\n",
       "    }\n",
       "\n",
       "    .dataframe tbody tr th {\n",
       "        vertical-align: top;\n",
       "    }\n",
       "\n",
       "    .dataframe thead th {\n",
       "        text-align: right;\n",
       "    }\n",
       "</style>\n",
       "<table border=\"1\" class=\"dataframe\">\n",
       "  <thead>\n",
       "    <tr style=\"text-align: right;\">\n",
       "      <th></th>\n",
       "      <th>Price</th>\n",
       "      <th>Quantity</th>\n",
       "      <th>Time</th>\n",
       "    </tr>\n",
       "  </thead>\n",
       "  <tbody>\n",
       "    <tr>\n",
       "      <th>0</th>\n",
       "      <td>26473.80</td>\n",
       "      <td>0.00223</td>\n",
       "      <td>1685059200000</td>\n",
       "    </tr>\n",
       "    <tr>\n",
       "      <th>1</th>\n",
       "      <td>26473.79</td>\n",
       "      <td>0.00199</td>\n",
       "      <td>1685059200001</td>\n",
       "    </tr>\n",
       "    <tr>\n",
       "      <th>2</th>\n",
       "      <td>26473.80</td>\n",
       "      <td>0.00110</td>\n",
       "      <td>1685059200002</td>\n",
       "    </tr>\n",
       "  </tbody>\n",
       "</table>\n",
       "</div>"
      ],
      "text/plain": [
       "      Price  Quantity           Time\n",
       "0  26473.80   0.00223  1685059200000\n",
       "1  26473.79   0.00199  1685059200001\n",
       "2  26473.80   0.00110  1685059200002"
      ]
     },
     "execution_count": 178,
     "metadata": {},
     "output_type": "execute_result"
    }
   ],
   "source": [
    "df_pqt.head(3)"
   ]
  },
  {
   "cell_type": "markdown",
   "id": "b7a241b6",
   "metadata": {},
   "source": [
    "We can also convert the time from a unix timestamp to the time in seconds."
   ]
  },
  {
   "cell_type": "code",
   "execution_count": 179,
   "id": "c038b0b1",
   "metadata": {},
   "outputs": [],
   "source": [
    "# Convert Unix timestamp to datetime, using the to_datetime method\n",
    "df_pqt['Time'] = pd.to_datetime(df['Time'], unit='ms')"
   ]
  },
  {
   "cell_type": "markdown",
   "id": "f4e4242f",
   "metadata": {},
   "source": [
    "## Data visualisation"
   ]
  },
  {
   "cell_type": "markdown",
   "id": "02caa6e3",
   "metadata": {},
   "source": [
    "For the purposes of analysing the trend of the price of Bitcoin, we can collate the data to show the average price for each minute, giving 1440 datapoints."
   ]
  },
  {
   "cell_type": "code",
   "execution_count": 180,
   "id": "b3be7f96",
   "metadata": {},
   "outputs": [
    {
     "data": {
      "text/html": [
       "<div>\n",
       "<style scoped>\n",
       "    .dataframe tbody tr th:only-of-type {\n",
       "        vertical-align: middle;\n",
       "    }\n",
       "\n",
       "    .dataframe tbody tr th {\n",
       "        vertical-align: top;\n",
       "    }\n",
       "\n",
       "    .dataframe thead th {\n",
       "        text-align: right;\n",
       "    }\n",
       "</style>\n",
       "<table border=\"1\" class=\"dataframe\">\n",
       "  <thead>\n",
       "    <tr style=\"text-align: right;\">\n",
       "      <th></th>\n",
       "      <th>Price</th>\n",
       "      <th>Quantity</th>\n",
       "      <th>Time</th>\n",
       "    </tr>\n",
       "  </thead>\n",
       "  <tbody>\n",
       "    <tr>\n",
       "      <th>0</th>\n",
       "      <td>26473.80</td>\n",
       "      <td>0.00223</td>\n",
       "      <td>2023-05-26 00:00:00.000</td>\n",
       "    </tr>\n",
       "    <tr>\n",
       "      <th>1</th>\n",
       "      <td>26473.79</td>\n",
       "      <td>0.00199</td>\n",
       "      <td>2023-05-26 00:00:00.001</td>\n",
       "    </tr>\n",
       "    <tr>\n",
       "      <th>2</th>\n",
       "      <td>26473.80</td>\n",
       "      <td>0.00110</td>\n",
       "      <td>2023-05-26 00:00:00.002</td>\n",
       "    </tr>\n",
       "    <tr>\n",
       "      <th>3</th>\n",
       "      <td>26473.79</td>\n",
       "      <td>0.00263</td>\n",
       "      <td>2023-05-26 00:00:00.003</td>\n",
       "    </tr>\n",
       "    <tr>\n",
       "      <th>4</th>\n",
       "      <td>26473.80</td>\n",
       "      <td>0.00147</td>\n",
       "      <td>2023-05-26 00:00:00.003</td>\n",
       "    </tr>\n",
       "    <tr>\n",
       "      <th>...</th>\n",
       "      <td>...</td>\n",
       "      <td>...</td>\n",
       "      <td>...</td>\n",
       "    </tr>\n",
       "    <tr>\n",
       "      <th>655750</th>\n",
       "      <td>26705.92</td>\n",
       "      <td>0.00125</td>\n",
       "      <td>2023-05-26 23:59:59.991</td>\n",
       "    </tr>\n",
       "    <tr>\n",
       "      <th>655751</th>\n",
       "      <td>26705.93</td>\n",
       "      <td>0.00773</td>\n",
       "      <td>2023-05-26 23:59:59.996</td>\n",
       "    </tr>\n",
       "    <tr>\n",
       "      <th>655752</th>\n",
       "      <td>26705.92</td>\n",
       "      <td>0.00096</td>\n",
       "      <td>2023-05-26 23:59:59.997</td>\n",
       "    </tr>\n",
       "    <tr>\n",
       "      <th>655753</th>\n",
       "      <td>26705.93</td>\n",
       "      <td>0.00315</td>\n",
       "      <td>2023-05-26 23:59:59.998</td>\n",
       "    </tr>\n",
       "    <tr>\n",
       "      <th>655754</th>\n",
       "      <td>26705.92</td>\n",
       "      <td>0.00247</td>\n",
       "      <td>2023-05-26 23:59:59.999</td>\n",
       "    </tr>\n",
       "  </tbody>\n",
       "</table>\n",
       "<p>655755 rows × 3 columns</p>\n",
       "</div>"
      ],
      "text/plain": [
       "           Price  Quantity                    Time\n",
       "0       26473.80   0.00223 2023-05-26 00:00:00.000\n",
       "1       26473.79   0.00199 2023-05-26 00:00:00.001\n",
       "2       26473.80   0.00110 2023-05-26 00:00:00.002\n",
       "3       26473.79   0.00263 2023-05-26 00:00:00.003\n",
       "4       26473.80   0.00147 2023-05-26 00:00:00.003\n",
       "...          ...       ...                     ...\n",
       "655750  26705.92   0.00125 2023-05-26 23:59:59.991\n",
       "655751  26705.93   0.00773 2023-05-26 23:59:59.996\n",
       "655752  26705.92   0.00096 2023-05-26 23:59:59.997\n",
       "655753  26705.93   0.00315 2023-05-26 23:59:59.998\n",
       "655754  26705.92   0.00247 2023-05-26 23:59:59.999\n",
       "\n",
       "[655755 rows x 3 columns]"
      ]
     },
     "execution_count": 180,
     "metadata": {},
     "output_type": "execute_result"
    }
   ],
   "source": [
    "df_pqt"
   ]
  },
  {
   "cell_type": "code",
   "execution_count": 181,
   "id": "f456ddbf",
   "metadata": {},
   "outputs": [
    {
     "data": {
      "text/html": [
       "<div>\n",
       "<style scoped>\n",
       "    .dataframe tbody tr th:only-of-type {\n",
       "        vertical-align: middle;\n",
       "    }\n",
       "\n",
       "    .dataframe tbody tr th {\n",
       "        vertical-align: top;\n",
       "    }\n",
       "\n",
       "    .dataframe thead th {\n",
       "        text-align: right;\n",
       "    }\n",
       "</style>\n",
       "<table border=\"1\" class=\"dataframe\">\n",
       "  <thead>\n",
       "    <tr style=\"text-align: right;\">\n",
       "      <th></th>\n",
       "      <th>Price</th>\n",
       "      <th>Quantity</th>\n",
       "    </tr>\n",
       "    <tr>\n",
       "      <th>Time</th>\n",
       "      <th></th>\n",
       "      <th></th>\n",
       "    </tr>\n",
       "  </thead>\n",
       "  <tbody>\n",
       "    <tr>\n",
       "      <th>2023-05-26 00:00:00</th>\n",
       "      <td>26476.432582</td>\n",
       "      <td>0.022306</td>\n",
       "    </tr>\n",
       "    <tr>\n",
       "      <th>2023-05-26 00:01:00</th>\n",
       "      <td>26480.118146</td>\n",
       "      <td>0.010179</td>\n",
       "    </tr>\n",
       "    <tr>\n",
       "      <th>2023-05-26 00:02:00</th>\n",
       "      <td>26478.351292</td>\n",
       "      <td>0.038731</td>\n",
       "    </tr>\n",
       "  </tbody>\n",
       "</table>\n",
       "</div>"
      ],
      "text/plain": [
       "                            Price  Quantity\n",
       "Time                                       \n",
       "2023-05-26 00:00:00  26476.432582  0.022306\n",
       "2023-05-26 00:01:00  26480.118146  0.010179\n",
       "2023-05-26 00:02:00  26478.351292  0.038731"
      ]
     },
     "execution_count": 181,
     "metadata": {},
     "output_type": "execute_result"
    }
   ],
   "source": [
    "df_pqt = df_pqt.groupby(pd.Grouper(key=\"Time\", freq=\"1min\")).mean()\n",
    "df_pqt.head(3)"
   ]
  },
  {
   "cell_type": "code",
   "execution_count": 182,
   "id": "764d11c2",
   "metadata": {},
   "outputs": [],
   "source": [
    "df_pqt = df_pqt.reset_index('Time')"
   ]
  },
  {
   "cell_type": "code",
   "execution_count": 183,
   "id": "5860abd5",
   "metadata": {},
   "outputs": [
    {
     "data": {
      "text/html": [
       "<div>\n",
       "<style scoped>\n",
       "    .dataframe tbody tr th:only-of-type {\n",
       "        vertical-align: middle;\n",
       "    }\n",
       "\n",
       "    .dataframe tbody tr th {\n",
       "        vertical-align: top;\n",
       "    }\n",
       "\n",
       "    .dataframe thead th {\n",
       "        text-align: right;\n",
       "    }\n",
       "</style>\n",
       "<table border=\"1\" class=\"dataframe\">\n",
       "  <thead>\n",
       "    <tr style=\"text-align: right;\">\n",
       "      <th></th>\n",
       "      <th>Time</th>\n",
       "      <th>Price</th>\n",
       "      <th>Quantity</th>\n",
       "    </tr>\n",
       "  </thead>\n",
       "  <tbody>\n",
       "    <tr>\n",
       "      <th>0</th>\n",
       "      <td>00:00:00</td>\n",
       "      <td>26476.432582</td>\n",
       "      <td>0.022306</td>\n",
       "    </tr>\n",
       "    <tr>\n",
       "      <th>1</th>\n",
       "      <td>00:01:00</td>\n",
       "      <td>26480.118146</td>\n",
       "      <td>0.010179</td>\n",
       "    </tr>\n",
       "    <tr>\n",
       "      <th>2</th>\n",
       "      <td>00:02:00</td>\n",
       "      <td>26478.351292</td>\n",
       "      <td>0.038731</td>\n",
       "    </tr>\n",
       "    <tr>\n",
       "      <th>3</th>\n",
       "      <td>00:03:00</td>\n",
       "      <td>26478.081212</td>\n",
       "      <td>0.013168</td>\n",
       "    </tr>\n",
       "    <tr>\n",
       "      <th>4</th>\n",
       "      <td>00:04:00</td>\n",
       "      <td>26479.377289</td>\n",
       "      <td>0.006377</td>\n",
       "    </tr>\n",
       "    <tr>\n",
       "      <th>...</th>\n",
       "      <td>...</td>\n",
       "      <td>...</td>\n",
       "      <td>...</td>\n",
       "    </tr>\n",
       "    <tr>\n",
       "      <th>1435</th>\n",
       "      <td>23:55:00</td>\n",
       "      <td>26708.843738</td>\n",
       "      <td>0.012597</td>\n",
       "    </tr>\n",
       "    <tr>\n",
       "      <th>1436</th>\n",
       "      <td>23:56:00</td>\n",
       "      <td>26708.846220</td>\n",
       "      <td>0.012436</td>\n",
       "    </tr>\n",
       "    <tr>\n",
       "      <th>1437</th>\n",
       "      <td>23:57:00</td>\n",
       "      <td>26709.438943</td>\n",
       "      <td>0.078564</td>\n",
       "    </tr>\n",
       "    <tr>\n",
       "      <th>1438</th>\n",
       "      <td>23:58:00</td>\n",
       "      <td>26709.905586</td>\n",
       "      <td>0.016196</td>\n",
       "    </tr>\n",
       "    <tr>\n",
       "      <th>1439</th>\n",
       "      <td>23:59:00</td>\n",
       "      <td>26708.520633</td>\n",
       "      <td>0.032245</td>\n",
       "    </tr>\n",
       "  </tbody>\n",
       "</table>\n",
       "<p>1440 rows × 3 columns</p>\n",
       "</div>"
      ],
      "text/plain": [
       "          Time         Price  Quantity\n",
       "0     00:00:00  26476.432582  0.022306\n",
       "1     00:01:00  26480.118146  0.010179\n",
       "2     00:02:00  26478.351292  0.038731\n",
       "3     00:03:00  26478.081212  0.013168\n",
       "4     00:04:00  26479.377289  0.006377\n",
       "...        ...           ...       ...\n",
       "1435  23:55:00  26708.843738  0.012597\n",
       "1436  23:56:00  26708.846220  0.012436\n",
       "1437  23:57:00  26709.438943  0.078564\n",
       "1438  23:58:00  26709.905586  0.016196\n",
       "1439  23:59:00  26708.520633  0.032245\n",
       "\n",
       "[1440 rows x 3 columns]"
      ]
     },
     "execution_count": 183,
     "metadata": {},
     "output_type": "execute_result"
    }
   ],
   "source": [
    "# Tidying the time column\n",
    "df_pqt['Time'] = pd.to_datetime(df_pqt['Time']).apply(lambda x: str(x.time()))\n",
    "df_pqt"
   ]
  },
  {
   "cell_type": "code",
   "execution_count": 172,
   "id": "c69b9dc7",
   "metadata": {},
   "outputs": [
    {
     "data": {
      "image/png": "[encoded data removed]",
      "text/plain": [
       "<Figure size 640x480 with 1 Axes>"
      ]
     },
     "metadata": {},
     "output_type": "display_data"
    }
   ],
   "source": [
    "# Plotting the price against time\n",
    "plt.plot(df_pqt.Time, df_pqt.Price)\n",
    "\n",
    "# Adding titles\n",
    "plt.suptitle(\"Price: BTC/USDT\")\n",
    "plt.xlabel(\"Time\")\n",
    "plt.ylabel(\"Price\")\n",
    "\n",
    "# Adjusting the x-axis denominations\n",
    "plt.xticks()\n",
    "\n",
    "plt.show()"
   ]
  },
  {
   "cell_type": "markdown",
   "id": "f8a1e7c3",
   "metadata": {},
   "source": [
    "## Conclusion\n",
    "\n",
    "As we can see the price of Bitcoin varies greatly throughout the day but the overall trend seems to be positive. The difference between the highest and lowest price of Bitcoin is $2.30\\%$, an indication of fairly significant market volitility. "
   ]
  },
  {
   "cell_type": "markdown",
   "id": "6b8c0422",
   "metadata": {},
   "source": [
    "## Improvements\n",
    "A few improvements could be a made to this project:\n",
    "- Add the indices on the x-axis.\n",
    "- Investigate the possible causes for the increase in the price of Bitcoin around midday.\n",
    "- Further analysis could be conducted with the volume of trades, to find out whether a correlation exists.\n",
    "- Compare the market volatility to other days"
   ]
  },
  {
   "cell_type": "code",
   "execution_count": null,
   "id": "36e3493c",
   "metadata": {},
   "outputs": [],
   "source": []
  }
 ],
 "metadata": {
  "kernelspec": {
   "display_name": "Python 3 (ipykernel)",
   "language": "python",
   "name": "python3"
  },
  "language_info": {
   "codemirror_mode": {
    "name": "ipython",
    "version": 3
   },
   "file_extension": ".py",
   "mimetype": "text/x-python",
   "name": "python",
   "nbconvert_exporter": "python",
   "pygments_lexer": "ipython3",
   "version": "3.11.3"
  }
 },
 "nbformat": 4,
 "nbformat_minor": 5
}
