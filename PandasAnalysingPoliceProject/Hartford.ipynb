{
 "cells": [
  {
   "cell_type": "markdown",
   "id": "8a9a2194",
   "metadata": {},
   "source": [
    "# Does the Time of Day Affect the Frequency of Stops Made?"
   ]
  },
  {
   "cell_type": "code",
   "execution_count": 2,
   "id": "9439a18a",
   "metadata": {},
   "outputs": [],
   "source": [
    "import pandas as pd\n",
    "import numpy as np\n",
    "import datetime"
   ]
  },
  {
   "cell_type": "code",
   "execution_count": 146,
   "id": "c20986f4",
   "metadata": {
    "scrolled": true
   },
   "outputs": [
    {
     "name": "stdout",
     "output_type": "stream",
     "text": [
      "The data set has 18439 rows and 26 columns\n"
     ]
    }
   ],
   "source": [
    "df = pd.read_csv('ct_hartford.csv')\n",
    "print(f'The data set has {df.shape[0]} rows and {df.shape[1]} columns' )"
   ]
  },
  {
   "cell_type": "markdown",
   "id": "529bd83c",
   "metadata": {},
   "source": [
    "## Deciding which columns to keep"
   ]
  },
  {
   "cell_type": "code",
   "execution_count": 147,
   "id": "b55a7d28",
   "metadata": {},
   "outputs": [
    {
     "name": "stdout",
     "output_type": "stream",
     "text": [
      "Index(['raw_row_number', 'date', 'time', 'location', 'lat', 'lng', 'district',\n",
      "       'subject_age', 'subject_race', 'subject_sex', 'officer_id_hash',\n",
      "       'department_name', 'type', 'arrest_made', 'citation_issued',\n",
      "       'warning_issued', 'outcome', 'contraband_found', 'search_conducted',\n",
      "       'search_vehicle', 'search_basis', 'reason_for_stop',\n",
      "       'raw_subject_race_code', 'raw_subject_ethnicity_code',\n",
      "       'raw_search_authorization_code', 'raw_intervention_disposition_code'],\n",
      "      dtype='object')\n"
     ]
    }
   ],
   "source": [
    "print(df.columns)"
   ]
  },
  {
   "cell_type": "code",
   "execution_count": 148,
   "id": "3ca10a5a",
   "metadata": {},
   "outputs": [],
   "source": [
    "columns_to_keep = ['date', 'time', 'reason_for_stop', 'arrest_made']"
   ]
  },
  {
   "cell_type": "markdown",
   "id": "ba09f6d0",
   "metadata": {},
   "source": [
    "## Using keyword arguments"
   ]
  },
  {
   "cell_type": "code",
   "execution_count": 149,
   "id": "ead19d30",
   "metadata": {},
   "outputs": [
    {
     "name": "stdout",
     "output_type": "stream",
     "text": [
      "             date      time arrest_made         reason_for_stop\n",
      "0      2013-10-13  15:21:00       False               Stop Sign\n",
      "1      2013-10-24  01:12:00       False        Defective Lights\n",
      "2      2013-10-26  10:06:00       False  Traffic Control Signal\n",
      "3      2013-10-26  18:06:00       False  Traffic Control Signal\n",
      "4      2013-10-26  19:56:00       False               Stop Sign\n",
      "...           ...       ...         ...                     ...\n",
      "18434  2016-09-29  16:10:00       False              Cell Phone\n",
      "18435  2016-09-29  17:13:00       False               Stop Sign\n",
      "18436  2016-09-29  18:30:00       False  Administrative Offense\n",
      "18437  2016-09-29  20:09:00        True        Moving Violation\n",
      "18438  2016-09-29  22:29:00       False           Speed Related\n",
      "\n",
      "[18439 rows x 4 columns]\n"
     ]
    }
   ],
   "source": [
    "df.drop(columns=df.columns.difference(columns_to_keep), inplace=True)\n",
    "print(df)"
   ]
  },
  {
   "cell_type": "markdown",
   "id": "5824bc58",
   "metadata": {},
   "source": [
    "## Change the order of the columns"
   ]
  },
  {
   "cell_type": "code",
   "execution_count": 150,
   "id": "6a52bb98",
   "metadata": {},
   "outputs": [
    {
     "name": "stdout",
     "output_type": "stream",
     "text": [
      "             date      time         reason_for_stop arrest_made\n",
      "0      2013-10-13  15:21:00               Stop Sign       False\n",
      "1      2013-10-24  01:12:00        Defective Lights       False\n",
      "2      2013-10-26  10:06:00  Traffic Control Signal       False\n",
      "3      2013-10-26  18:06:00  Traffic Control Signal       False\n",
      "4      2013-10-26  19:56:00               Stop Sign       False\n",
      "...           ...       ...                     ...         ...\n",
      "18434  2016-09-29  16:10:00              Cell Phone       False\n",
      "18435  2016-09-29  17:13:00               Stop Sign       False\n",
      "18436  2016-09-29  18:30:00  Administrative Offense       False\n",
      "18437  2016-09-29  20:09:00        Moving Violation        True\n",
      "18438  2016-09-29  22:29:00           Speed Related       False\n",
      "\n",
      "[18439 rows x 4 columns]\n"
     ]
    }
   ],
   "source": [
    "df = df[columns_to_keep]\n",
    "print(df)"
   ]
  },
  {
   "cell_type": "code",
   "execution_count": 153,
   "id": "fb218779",
   "metadata": {},
   "outputs": [
    {
     "name": "stdout",
     "output_type": "stream",
     "text": [
      "date               0\n",
      "time               0\n",
      "reason_for_stop    0\n",
      "arrest_made        0\n",
      "dtype: int64\n"
     ]
    }
   ],
   "source": [
    "empty_value_count = df.isnull().sum()\n",
    "print(empty_value_count)"
   ]
  },
  {
   "cell_type": "markdown",
   "id": "e3b6597d",
   "metadata": {},
   "source": [
    "## Dropping rows with no value"
   ]
  },
  {
   "cell_type": "code",
   "execution_count": 154,
   "id": "0764e659",
   "metadata": {},
   "outputs": [
    {
     "name": "stdout",
     "output_type": "stream",
     "text": [
      "             date      time         reason_for_stop arrest_made\n",
      "0      2013-10-13  15:21:00               Stop Sign       False\n",
      "1      2013-10-24  01:12:00        Defective Lights       False\n",
      "2      2013-10-26  10:06:00  Traffic Control Signal       False\n",
      "3      2013-10-26  18:06:00  Traffic Control Signal       False\n",
      "4      2013-10-26  19:56:00               Stop Sign       False\n",
      "...           ...       ...                     ...         ...\n",
      "18434  2016-09-29  16:10:00              Cell Phone       False\n",
      "18435  2016-09-29  17:13:00               Stop Sign       False\n",
      "18436  2016-09-29  18:30:00  Administrative Offense       False\n",
      "18437  2016-09-29  20:09:00        Moving Violation        True\n",
      "18438  2016-09-29  22:29:00           Speed Related       False\n",
      "\n",
      "[18430 rows x 4 columns]\n"
     ]
    }
   ],
   "source": [
    "df = df.dropna()\n",
    "print(df)"
   ]
  },
  {
   "cell_type": "markdown",
   "id": "d2a31519",
   "metadata": {},
   "source": [
    "## Percentage of arrests made"
   ]
  },
  {
   "cell_type": "code",
   "execution_count": 155,
   "id": "0b5d2869",
   "metadata": {},
   "outputs": [
    {
     "name": "stdout",
     "output_type": "stream",
     "text": [
      "3.87%\n"
     ]
    }
   ],
   "source": [
    "num_true_rows = (df['arrest_made'] == True).sum()\n",
    "print(f'{round(num_true_rows/18430 * 100, 2)}%')"
   ]
  },
  {
   "cell_type": "markdown",
   "id": "bdadb277",
   "metadata": {},
   "source": [
    "## Sorting according to the time of the day"
   ]
  },
  {
   "cell_type": "code",
   "execution_count": 156,
   "id": "16121379",
   "metadata": {},
   "outputs": [
    {
     "name": "stdout",
     "output_type": "stream",
     "text": [
      "             date      time         reason_for_stop arrest_made\n",
      "0      2013-10-13  15:21:00               Stop Sign       False\n",
      "1      2013-10-24  01:12:00        Defective Lights       False\n",
      "2      2013-10-26  10:06:00  Traffic Control Signal       False\n",
      "3      2013-10-26  18:06:00  Traffic Control Signal       False\n",
      "4      2013-10-26  19:56:00               Stop Sign       False\n",
      "...           ...       ...                     ...         ...\n",
      "18434  2016-09-29  16:10:00              Cell Phone       False\n",
      "18435  2016-09-29  17:13:00               Stop Sign       False\n",
      "18436  2016-09-29  18:30:00  Administrative Offense       False\n",
      "18437  2016-09-29  20:09:00        Moving Violation        True\n",
      "18438  2016-09-29  22:29:00           Speed Related       False\n",
      "\n",
      "[18430 rows x 4 columns]\n"
     ]
    }
   ],
   "source": [
    "df['time'] = pd.to_datetime(df['time'],format= '%H:%M:%S' ).dt.time\n",
    "print(df)"
   ]
  },
  {
   "cell_type": "code",
   "execution_count": 13,
   "id": "d0c96aca",
   "metadata": {
    "scrolled": true
   },
   "outputs": [
    {
     "name": "stdout",
     "output_type": "stream",
     "text": [
      "date               object\n",
      "time               object\n",
      "reason_for_stop    object\n",
      "arrest_made        object\n",
      "dtype: object\n"
     ]
    }
   ],
   "source": [
    "print(df.dtypes)"
   ]
  },
  {
   "cell_type": "code",
   "execution_count": null,
   "id": "09c10593",
   "metadata": {},
   "outputs": [],
   "source": []
  },
  {
   "cell_type": "code",
   "execution_count": null,
   "id": "39bafe9f",
   "metadata": {},
   "outputs": [],
   "source": []
  },
  {
   "cell_type": "code",
   "execution_count": null,
   "id": "232199cb",
   "metadata": {},
   "outputs": [],
   "source": []
  }
 ],
 "metadata": {
  "kernelspec": {
   "display_name": "Python 3 (ipykernel)",
   "language": "python",
   "name": "python3"
  },
  "language_info": {
   "codemirror_mode": {
    "name": "ipython",
    "version": 3
   },
   "file_extension": ".py",
   "mimetype": "text/x-python",
   "name": "python",
   "nbconvert_exporter": "python",
   "pygments_lexer": "ipython3",
   "version": "3.11.3"
  }
 },
 "nbformat": 4,
 "nbformat_minor": 5
}
